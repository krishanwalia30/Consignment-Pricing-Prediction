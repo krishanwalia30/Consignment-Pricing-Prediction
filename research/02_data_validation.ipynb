{
 "cells": [
  {
   "cell_type": "code",
   "execution_count": 1,
   "metadata": {},
   "outputs": [
    {
     "data": {
      "text/plain": [
       "'d:\\\\Machine_Learning\\\\Consignment-Pricing-Prediction'"
      ]
     },
     "execution_count": 1,
     "metadata": {},
     "output_type": "execute_result"
    }
   ],
   "source": [
    "import os\n",
    "os.chdir(\"../\")\n",
    "%pwd\n"
   ]
  },
  {
   "cell_type": "code",
   "execution_count": 2,
   "metadata": {},
   "outputs": [
    {
     "data": {
      "text/plain": [
       "['data.zip', 'SCMS_Delivery_History_Dataset.csv']"
      ]
     },
     "execution_count": 2,
     "metadata": {},
     "output_type": "execute_result"
    }
   ],
   "source": [
    "os.listdir(\"artifacts/data_ingestion\")"
   ]
  },
  {
   "cell_type": "code",
   "execution_count": 3,
   "metadata": {},
   "outputs": [],
   "source": [
    "from dataclasses import dataclass\n",
    "from pathlib import Path\n",
    "\n",
    "@dataclass(frozen=True)\n",
    "class DataValidationConfig:\n",
    "    root_dir: Path\n",
    "    status_file: Path\n",
    "    data_path: Path\n",
    "    required_files: list"
   ]
  },
  {
   "cell_type": "code",
   "execution_count": 4,
   "metadata": {},
   "outputs": [],
   "source": [
    "from ConsignmentPricingPrediction.constants import *\n",
    "from ConsignmentPricingPrediction.utils.common import read_yaml, create_directories"
   ]
  },
  {
   "cell_type": "code",
   "execution_count": 5,
   "metadata": {},
   "outputs": [],
   "source": [
    "class ConfigurationManager:\n",
    "    def __init__(\n",
    "            self,\n",
    "            config_file_path = CONFIG_FILE_PATH,\n",
    "            params_file_pah = PARAMS_FILE_PATH\n",
    "            ):\n",
    "        self.config = read_yaml(config_file_path)\n",
    "        self.params = read_yaml(params_file_pah)\n",
    "\n",
    "        create_directories([self.config.artifacts_root])\n",
    "    \n",
    "    def get_data_validation_config(self) -> DataValidationConfig:\n",
    "        config = self.config.data_validation \n",
    "\n",
    "        create_directories([config.root_dir])\n",
    "        data_validation_config = DataValidationConfig(\n",
    "            root_dir = config.root_dir,\n",
    "            status_file = config.status_file,\n",
    "            data_path = config.data_path,\n",
    "            required_files = config.required_files\n",
    "        )\n",
    "\n",
    "        return data_validation_config"
   ]
  },
  {
   "cell_type": "code",
   "execution_count": 6,
   "metadata": {},
   "outputs": [],
   "source": [
    "from ConsignmentPricingPrediction.logging import Logger\n",
    "class DataValidation:\n",
    "\n",
    "    def __init__(self, config: DataValidationConfig):\n",
    "        self.config = config\n",
    "\n",
    "    def initiate_data_validation(self)-> bool:\n",
    "        try:    \n",
    "            validation_status = None\n",
    "\n",
    "            all_files_at_data_path = os.listdir(self.config.data_path)\n",
    "\n",
    "            for file in self.config.required_files:\n",
    "                if file in all_files_at_data_path:\n",
    "                    validation_status = True\n",
    "                else:\n",
    "                    validation_status = False\n",
    "                    break\n",
    "            \n",
    "            with open(self.config.status_file, 'w') as file_obj:\n",
    "                file_obj.write(f\"Validation Status: {validation_status}\")\n",
    "                \n",
    "            # The code below is problematic, see last kernel for explanation\n",
    "            # for file in all_files_at_data_path:\n",
    "            #     if file not in self.config.required_files:\n",
    "            #         validation_status = False\n",
    "            #         with open(self.config.status_file, 'w') as file_obj:\n",
    "            #             file_obj.write(f\"Validation Status: {validation_status}\")\n",
    "\n",
    "            #     else:\n",
    "            #         validation_status = True\n",
    "            #         with open(self.config.status_file, 'w') as file_obj:\n",
    "            #             file_obj.write(f\"Validation Status: {validation_status}\")\n",
    "\n",
    "            Logger.info(f\"Data Validation Status: {validation_status}\")\n",
    "            return validation_status\n",
    "        except Exception as e:\n",
    "            raise e"
   ]
  },
  {
   "cell_type": "code",
   "execution_count": 10,
   "metadata": {},
   "outputs": [
    {
     "name": "stdout",
     "output_type": "stream",
     "text": [
      "[2024-01-24 18:08:52,591: INFO: common: yaml file config\\config.yaml loaded successfully]\n",
      "[2024-01-24 18:08:52,591: INFO: common: yaml file params.yaml loaded successfully]\n",
      "[2024-01-24 18:08:52,596: INFO: common: created directory at: artifacts]\n",
      "[2024-01-24 18:08:52,599: INFO: common: created directory at: artifacts/data_validation]\n",
      "[2024-01-24 18:08:52,601: INFO: 2892946114: Data Validation Status: True]\n"
     ]
    }
   ],
   "source": [
    "# Pipeline\n",
    "\n",
    "try:\n",
    "    config = ConfigurationManager()\n",
    "    data_validation_config = config.get_data_validation_config()\n",
    "    data_validation = DataValidation(data_validation_config)\n",
    "    data_validation.initiate_data_validation()\n",
    "\n",
    "except Exception as e:\n",
    "    raise e"
   ]
  },
  {
   "cell_type": "code",
   "execution_count": 11,
   "metadata": {},
   "outputs": [
    {
     "name": "stdout",
     "output_type": "stream",
     "text": [
      "True\n"
     ]
    }
   ],
   "source": [
    "all_files_list = os.listdir(\"artifacts/data_ingestion\")\n",
    "req_f_list = ['SCMS_Delivery_History_Dataset.csv']\n",
    "\n",
    "valid = None\n",
    "for f in req_f_list:\n",
    "    if f in all_files_list:\n",
    "        valid = True\n",
    "    else:\n",
    "        valid = False\n",
    "\n",
    "print(valid)"
   ]
  },
  {
   "cell_type": "code",
   "execution_count": null,
   "metadata": {},
   "outputs": [],
   "source": []
  }
 ],
 "metadata": {
  "kernelspec": {
   "display_name": "CPP",
   "language": "python",
   "name": "python3"
  },
  "language_info": {
   "codemirror_mode": {
    "name": "ipython",
    "version": 3
   },
   "file_extension": ".py",
   "mimetype": "text/x-python",
   "name": "python",
   "nbconvert_exporter": "python",
   "pygments_lexer": "ipython3",
   "version": "3.9.0"
  }
 },
 "nbformat": 4,
 "nbformat_minor": 2
}
