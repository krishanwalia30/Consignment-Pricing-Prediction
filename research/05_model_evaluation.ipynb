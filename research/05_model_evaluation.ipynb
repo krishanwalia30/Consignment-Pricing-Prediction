{
 "cells": [
  {
   "cell_type": "code",
   "execution_count": 1,
   "metadata": {},
   "outputs": [
    {
     "data": {
      "text/plain": [
       "'d:\\\\Machine_Learning\\\\Consignment-Pricing-Prediction'"
      ]
     },
     "execution_count": 1,
     "metadata": {},
     "output_type": "execute_result"
    }
   ],
   "source": [
    "import os\n",
    "os.chdir(\"../\")\n",
    "%pwd"
   ]
  },
  {
   "cell_type": "code",
   "execution_count": 14,
   "metadata": {},
   "outputs": [],
   "source": [
    "from dataclasses import dataclass \n",
    "from pathlib import Path\n",
    "\n",
    "@dataclass(frozen=True)\n",
    "class ModelEvaluationConfig:\n",
    "    root_dir: Path\n",
    "    test_data_path: Path\n",
    "    model_path: Path\n",
    "    scaler_path: Path\n",
    "    metrics_file_path: Path\n",
    "    target_column: str"
   ]
  },
  {
   "cell_type": "code",
   "execution_count": 15,
   "metadata": {},
   "outputs": [],
   "source": [
    "from ConsignmentPricingPrediction.constants import CONFIG_FILE_PATH, PARAMS_FILE_PATH\n",
    "from ConsignmentPricingPrediction.utils.common import read_yaml, create_directories\n",
    "\n",
    "class ConfigurationManager:\n",
    "    def __init__(\n",
    "            self,\n",
    "            config_file_path = CONFIG_FILE_PATH,\n",
    "            params_file_path = PARAMS_FILE_PATH,\n",
    "            ):\n",
    "        self.config = read_yaml(config_file_path)\n",
    "        self.params = read_yaml(params_file_path)\n",
    "\n",
    "        create_directories([self.config.artifacts_root])\n",
    "\n",
    "    def get_model_evaluation_config(self)->ModelEvaluationConfig:\n",
    "        config = self.config.model_evaluation\n",
    "        params = self.params\n",
    "\n",
    "        create_directories([config.root_dir])\n",
    "\n",
    "        model_evaluation_config = ModelEvaluationConfig(\n",
    "            root_dir = config.root_dir,\n",
    "            test_data_path = config.test_data_path,\n",
    "            model_path = config.model_path,\n",
    "            scaler_path = config.scaler_path,\n",
    "            metrics_file_path = config.metrics_file_path,\n",
    "            target_column = params.TARGET_COLUMN,\n",
    "        )\n",
    "        return model_evaluation_config"
   ]
  },
  {
   "cell_type": "code",
   "execution_count": 43,
   "metadata": {},
   "outputs": [],
   "source": [
    "import pandas as pd\n",
    "from sklearn.metrics import r2_score, mean_absolute_error, mean_squared_error, mean_absolute_percentage_error\n",
    "from ConsignmentPricingPrediction.utils.common import load_object\n",
    "from ConsignmentPricingPrediction.logging import Logger\n",
    "import yaml\n",
    "\n",
    "class ModelEvaluation:\n",
    "    def __init__(self, model_evaluation_config: ModelEvaluationConfig):\n",
    "        self.config = model_evaluation_config\n",
    "\n",
    "    def fetch_dataset(self):\n",
    "        data = pd.read_csv(self.config.test_data_path)\n",
    "        Logger.info(\"Test Dataset has been fetched successfully\")\n",
    "        return data\n",
    "    \n",
    "    def seperating_dataset(self, testDF: pd.DataFrame):\n",
    "        x = testDF.drop(columns=[self.config.target_column], axis=1)\n",
    "        y = testDF[self.config.target_column]\n",
    "\n",
    "        Logger.info('Test Dataset has been separated successfully')\n",
    "        return x,y\n",
    "    \n",
    "    def scal_dataset(self, testDF: pd.DataFrame):\n",
    "        scaler = load_object(path= Path(self.config.scaler_path))\n",
    "        scaled_testDF = scaler.transform(testDF)\n",
    "\n",
    "        Logger.info('Test Dataset has been scaled successfully')\n",
    "        return scaled_testDF\n",
    "    \n",
    "    def fetch_model(self):\n",
    "        model = load_object(path= Path(self.config.model_path))\n",
    "\n",
    "        Logger.info('Trained Model has been fetched successfully')\n",
    "        return model\n",
    "    \n",
    "    \n",
    "    def save_metrics(self, r2, mae, mse, mape):\n",
    "        metrics = {\n",
    "            \"R2_Score\": float(r2),\n",
    "            \"Mean_Absolute_Error\": float(mae),\n",
    "            \"Mean_Squared_Error\": float(mse),\n",
    "            \"Mean_Absolute_Percentage_Error\": float(mape),\n",
    "        }\n",
    "\n",
    "        with open(self.config.metrics_file_path, 'w') as f:\n",
    "            yaml.dump(metrics, f)\n",
    "        Logger.info('Trained Metrics has been saved successfully at {}'.format(self.config.metrics_file_path))\n",
    "\n",
    "    def evaluate_model(self):\n",
    "        data = self.fetch_dataset()\n",
    "        x,y =  self.seperating_dataset(data)\n",
    "        scal_x = self.scal_dataset(x)\n",
    "\n",
    "        model = self.fetch_model()\n",
    "\n",
    "        y_pred = model.predict(scal_x)\n",
    "        Logger.info(\"Predictions on the testing dataset has been computed\")\n",
    "\n",
    "        r2 = r2_score(y, y_pred)\n",
    "        mae = mean_absolute_error(y, y_pred)\n",
    "        mse = mean_squared_error(y,y_pred)\n",
    "        mape = mean_absolute_percentage_error(y,y_pred)\n",
    "        Logger.info(\"Model has been evaluated\")\n",
    "        \n",
    "        self.save_metrics(r2, mae, mse, mape)\n",
    "        "
   ]
  },
  {
   "cell_type": "code",
   "execution_count": 44,
   "metadata": {},
   "outputs": [
    {
     "name": "stdout",
     "output_type": "stream",
     "text": [
      "[2024-03-22 13:52:52,679: INFO: common: yaml file config\\config.yaml loaded successfully]\n",
      "[2024-03-22 13:52:52,684: INFO: common: yaml file params.yaml loaded successfully]\n",
      "[2024-03-22 13:52:52,684: INFO: common: created directory at: artifacts]\n",
      "[2024-03-22 13:52:52,684: INFO: common: created directory at: artifacts/model_evaluation]\n",
      "[2024-03-22 13:52:52,697: INFO: 1731941409: Test Dataset has been fetched successfully]\n",
      "[2024-03-22 13:52:52,699: INFO: 1731941409: Test Dataset has been separated successfully]\n",
      "[2024-03-22 13:52:52,703: INFO: 1731941409: Test Dataset has been scaled successfully]\n",
      "[2024-03-22 13:52:52,707: INFO: 1731941409: Trained Model has been fetched successfully]\n",
      "[2024-03-22 13:52:52,714: INFO: 1731941409: Predictions on the testing dataset has been computed]\n",
      "[2024-03-22 13:52:52,714: INFO: 1731941409: Model has been evaluated]\n",
      "[2024-03-22 13:52:52,724: INFO: 1731941409: Trained Metrics has been saved successfully at artifacts/model_evaluation/metrics.yaml]\n"
     ]
    }
   ],
   "source": [
    "try:\n",
    "    config = ConfigurationManager()\n",
    "    model_evaluation_config = config.get_model_evaluation_config()\n",
    "    model_evaluation = ModelEvaluation(model_evaluation_config)\n",
    "    model_evaluation.evaluate_model()\n",
    "except Exception as e:\n",
    "    raise e"
   ]
  },
  {
   "cell_type": "code",
   "execution_count": null,
   "metadata": {},
   "outputs": [],
   "source": []
  }
 ],
 "metadata": {
  "kernelspec": {
   "display_name": "CPP",
   "language": "python",
   "name": "python3"
  },
  "language_info": {
   "codemirror_mode": {
    "name": "ipython",
    "version": 3
   },
   "file_extension": ".py",
   "mimetype": "text/x-python",
   "name": "python",
   "nbconvert_exporter": "python",
   "pygments_lexer": "ipython3",
   "version": "3.9.0"
  }
 },
 "nbformat": 4,
 "nbformat_minor": 2
}
