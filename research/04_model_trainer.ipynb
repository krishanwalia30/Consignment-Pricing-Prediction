{
 "cells": [
  {
   "cell_type": "code",
   "execution_count": 1,
   "metadata": {},
   "outputs": [
    {
     "data": {
      "text/plain": [
       "'d:\\\\Machine_Learning\\\\Consignment-Pricing-Prediction'"
      ]
     },
     "execution_count": 1,
     "metadata": {},
     "output_type": "execute_result"
    }
   ],
   "source": [
    "import os\n",
    "os.chdir(\"../\")\n",
    "%pwd"
   ]
  },
  {
   "cell_type": "code",
   "execution_count": 5,
   "metadata": {},
   "outputs": [],
   "source": [
    "# Entity for the model trainer\n",
    "from dataclasses import dataclass \n",
    "from pathlib import Path\n",
    "\n",
    "@dataclass(frozen=True)\n",
    "class ModelTrainerConfig:\n",
    "    root_dir: Path \n",
    "    train_data_path: Path\n",
    "    model_path: Path\n",
    "    scaler_path: Path\n",
    "    target_column: str"
   ]
  },
  {
   "cell_type": "code",
   "execution_count": 6,
   "metadata": {},
   "outputs": [],
   "source": [
    "from ConsignmentPricingPrediction.constants import *\n",
    "from ConsignmentPricingPrediction.utils.common import read_yaml, create_directories"
   ]
  },
  {
   "cell_type": "code",
   "execution_count": 8,
   "metadata": {},
   "outputs": [],
   "source": [
    "# Creating the configuration Manager for model trainer\n",
    "class ConfigurationManager:\n",
    "    def __init__(\n",
    "            self,\n",
    "            config_file_path= CONFIG_FILE_PATH,\n",
    "            params_file_path= PARAMS_FILE_PATH\n",
    "        ):\n",
    "        self.config = read_yaml(config_file_path)\n",
    "        self.params = read_yaml(params_file_path)\n",
    "\n",
    "        create_directories([self.config.artifacts_root])\n",
    "    \n",
    "    def get_model_trainer_config(self) -> ModelTrainerConfig:\n",
    "        config = self.config.model_trainer \n",
    "        params = self.params\n",
    "\n",
    "        create_directories([config.root_dir])\n",
    "\n",
    "        model_trainer_config = ModelTrainerConfig(\n",
    "            root_dir= config.root_dir,\n",
    "            train_data_path= config.train_data_path,\n",
    "            model_path= config.model_path,\n",
    "            scaler_path= config.scaler_path,\n",
    "            target_column= params.TARGET_COLUMN\n",
    "        )\n",
    "        return model_trainer_config"
   ]
  },
  {
   "cell_type": "code",
   "execution_count": 51,
   "metadata": {},
   "outputs": [],
   "source": [
    "import pandas as pd\n",
    "from sklearn.linear_model import Lasso, LinearRegression, Ridge\n",
    "from sklearn.preprocessing import StandardScaler\n",
    "from ConsignmentPricingPrediction.utils.common import save_object\n",
    "from sklearn.metrics import r2_score\n",
    "from ConsignmentPricingPrediction.logging import Logger\n",
    "\n",
    "class ModelTrainer:\n",
    "    def __init__(self, model_trainer_config: ModelTrainerConfig):\n",
    "        self.config = model_trainer_config\n",
    "\n",
    "    def fetch_train_data(self)-> pd.DataFrame:\n",
    "        testDF = pd.read_csv(self.config.train_data_path)\n",
    "        Logger.info('Training Dataset has been fetched successfully')\n",
    "        return testDF\n",
    "    \n",
    "    def separating_train_data(self, testDF: pd.DataFrame):\n",
    "        \"\"\"\n",
    "        Separating the training data into dependent and independent features\n",
    "        \n",
    "        Args:\n",
    "            testDF: pd.DataFrame\n",
    "        \n",
    "        Returns:\n",
    "            x: pd.DataFrame\n",
    "            y: pd.DataFrame\n",
    "        \"\"\"\n",
    "        x = testDF.drop(self.config.target_column, axis=1)\n",
    "        y = testDF[self.config.target_column]\n",
    "        Logger.info(\"Dataset has been seperated into dependent and independent features\")\n",
    "\n",
    "        return x, y\n",
    "    \n",
    "    def scal_dataset(self, testDF: pd.DataFrame):\n",
    "        \"\"\"\n",
    "        Scale the dataset and then save the scaler\n",
    "\n",
    "        Args:\n",
    "            testDF: pd.DataFrame\n",
    "\n",
    "        Returns:\n",
    "            scaled_data: ndarray\n",
    "        \"\"\"\n",
    "        scal = StandardScaler()\n",
    "        scaled_data = scal.fit_transform(testDF)\n",
    "        Logger.info(\"Dataset has been scaled successfully\")\n",
    "\n",
    "        # Saving the scaler\n",
    "        save_object(path=Path(self.config.scaler_path),obj=scal)    \n",
    "        Logger.info(\"Scaler has been saved successfully\")\n",
    "\n",
    "        return scaled_data\n",
    "\n",
    "        \n",
    "    def training_model(self, x, y):\n",
    "        models = {\n",
    "            'LinearRegression': LinearRegression(),\n",
    "            'Lasso': Lasso(),\n",
    "            'Ridge': Ridge(),\n",
    "        }\n",
    "\n",
    "        model_accuracy_dict = {}\n",
    "\n",
    "        for model in models.items():\n",
    "            # Fitting the model\n",
    "            model[1].fit(x, y) \n",
    "            \n",
    "            # Testing the accuracy on the training data\n",
    "            y_pred = model[1].predict(x)\n",
    "            model_accuracy_dict[model[0]] = r2_score(y,y_pred)\n",
    "\n",
    "        max_accuracy_score = (max(model_accuracy_dict.values()))\n",
    "        max_accuracy_model = list(model_accuracy_dict.items())[list(model_accuracy_dict.values()).index(max_accuracy_score)][0]\n",
    "        Logger.info(\"Model: {} | Model Accuracy: {}\".format(max_accuracy_model, max_accuracy_score))\n",
    "\n",
    "        final_model = models[max_accuracy_model]\n",
    "        Logger.info(\"Model has been trained successfully\")\n",
    "        return final_model\n",
    "\n",
    "    def save_model(self, model):\n",
    "        save_object(path=Path(self.config.model_path),obj=model)\n",
    "        Logger.info(\"Model has been saved successfully\")\n",
    "\n",
    "    def trainer(self):\n",
    "        # Fetching the dataset\n",
    "        data = self.fetch_train_data()\n",
    "\n",
    "        # Separating the dataset\n",
    "        x, y = self.separating_train_data(data)\n",
    "\n",
    "        # Scaling the dataset\n",
    "        x_scaled = self.scal_dataset(x)\n",
    "\n",
    "        # Training the model\n",
    "        model = self.training_model(x_scaled, y)\n",
    "        \n",
    "        # Saving the model\n",
    "        self.save_model(model)"
   ]
  },
  {
   "cell_type": "code",
   "execution_count": 52,
   "metadata": {},
   "outputs": [
    {
     "name": "stdout",
     "output_type": "stream",
     "text": [
      "[2024-03-21 19:36:58,442: INFO: common: yaml file config\\config.yaml loaded successfully]\n",
      "[2024-03-21 19:36:58,448: INFO: common: yaml file params.yaml loaded successfully]\n",
      "[2024-03-21 19:36:58,450: INFO: common: created directory at: artifacts]\n",
      "[2024-03-21 19:36:58,452: INFO: common: created directory at: artifacts/model_trainer]\n",
      "[2024-03-21 19:36:58,462: INFO: 3631226736: Training Dataset has been fetched successfully]\n",
      "[2024-03-21 19:36:58,466: INFO: 3631226736: Dataset has been seperated into dependent and independent features]\n",
      "[2024-03-21 19:36:58,473: INFO: 3631226736: Dataset has been scaled successfully]\n",
      "[2024-03-21 19:36:58,473: INFO: 3631226736: Scaler has been saved successfully]\n",
      "[2024-03-21 19:36:58,562: INFO: 3631226736: Model: LinearRegression | Model Accuracy: 0.3077374722825449]\n",
      "[2024-03-21 19:36:58,562: INFO: 3631226736: Model has been trained successfully]\n",
      "[2024-03-21 19:36:58,562: INFO: 3631226736: Model has been saved successfully]\n"
     ]
    },
    {
     "name": "stderr",
     "output_type": "stream",
     "text": [
      "c:\\Users\\krish\\miniconda3\\envs\\CPP\\lib\\site-packages\\sklearn\\linear_model\\_coordinate_descent.py:678: ConvergenceWarning: Objective did not converge. You might want to increase the number of iterations, check the scale of the features or consider increasing regularisation. Duality gap: 1.145e+10, tolerance: 7.777e+07\n",
      "  model = cd_fast.enet_coordinate_descent(\n"
     ]
    }
   ],
   "source": [
    "from ConsignmentPricingPrediction.logging import Logger\n",
    "\n",
    "try:\n",
    "    config = ConfigurationManager()\n",
    "    model_trainer_config = config.get_model_trainer_config()\n",
    "    model_trainer = ModelTrainer(model_trainer_config)\n",
    "    model_trainer.trainer()\n",
    "\n",
    "except Exception as e:\n",
    "    raise e"
   ]
  },
  {
   "cell_type": "code",
   "execution_count": null,
   "metadata": {},
   "outputs": [],
   "source": []
  }
 ],
 "metadata": {
  "kernelspec": {
   "display_name": "CPP",
   "language": "python",
   "name": "python3"
  },
  "language_info": {
   "codemirror_mode": {
    "name": "ipython",
    "version": 3
   },
   "file_extension": ".py",
   "mimetype": "text/x-python",
   "name": "python",
   "nbconvert_exporter": "python",
   "pygments_lexer": "ipython3",
   "version": "3.9.0"
  }
 },
 "nbformat": 4,
 "nbformat_minor": 2
}
